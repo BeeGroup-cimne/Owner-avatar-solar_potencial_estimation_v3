{
 "cells": [
  {
   "cell_type": "markdown",
   "metadata": {},
   "source": []
  },
  {
   "cell_type": "code",
   "execution_count": 61,
   "metadata": {},
   "outputs": [],
   "source": [
    "import json\n",
    "import pandas as pd\n",
    "import numpy as np\n",
    "import PySAM.Pvwattsv8 as PVWatts\n",
    "import PySAM.Grid as Grid\n",
    "import csv\n",
    "import matplotlib.pyplot as plt\n",
    "from datetime import datetime\n",
    "from matplotlib.dates import DateFormatter\n",
    "import geopandas as gpd\n",
    "import math"
   ]
  },
  {
   "cell_type": "code",
   "execution_count": 62,
   "metadata": {},
   "outputs": [
    {
     "data": {
      "text/plain": [
       "(<Pvwattsv8 at 0x7f1b8b002f10>, <Grid at 0x7f1b8b0286f0>)"
      ]
     },
     "execution_count": 62,
     "metadata": {},
     "output_type": "execute_result"
    }
   ],
   "source": [
    "def loadModules(file_names):\n",
    "    pv = PVWatts.new()\n",
    "    grid = Grid.from_existing(pv)\n",
    "\n",
    "    with open(file_names[0], 'r') as file:\n",
    "        data = json.load(file)\n",
    "        for k, v in data.items():\n",
    "                pv.value(k, v)\n",
    "\n",
    "    with open(file_names[1], 'r') as file:\n",
    "        data = json.load(file)\n",
    "        for k, v in data.items():\n",
    "                grid.value(k, v)\n",
    "\n",
    "    return pv, grid\n",
    "\n",
    "file_names = [\"/home/jaumeasensio/Documents/Projectes/BEEGroup/solar_potencial_estimation_v3/Scripts/sunEstimation/pysam_template_pvwattsv8.json\",\n",
    "    \"/home/jaumeasensio/Documents/Projectes/BEEGroup/solar_potencial_estimation_v3/Scripts/sunEstimation/pysam_template_grid.json\"]\n",
    "\n",
    "loadModules(file_names)"
   ]
  },
  {
   "cell_type": "code",
   "execution_count": 63,
   "metadata": {},
   "outputs": [],
   "source": [
    "planeFile = \"/home/jaumeasensio/Documents/Projectes/BEEGroup/solar_potencial_estimation_v3/Results/Test_70_el Besòs i el Maresme/Parcels/4054901DF3845C/408/Shading/1.csv\"\n",
    "shadingProfilesDF = pd.read_csv(planeFile, header=None)\n",
    "tilts = shadingProfilesDF.iloc[0][3:363]\n",
    "\n",
    "\n",
    "def get_matrix(tilts):\n",
    "    tilts = tilts.round()\n",
    "    angles = np.unique(tilts)\n",
    "    azimuths = np.arange(0, 360, 1)\n",
    "\n",
    "    matrix = []\n",
    "    singleRow = []\n",
    "    singleRow.append(0)\n",
    "    for angle in azimuths:\n",
    "        singleRow.append(angle)\n",
    "\n",
    "    matrix.append(singleRow)\n",
    "    for i, angle in enumerate(angles):\n",
    "        singleRow = []\n",
    "        singleRow.append(angle)\n",
    "        for j, tilt in enumerate(tilts):\n",
    "            if angle <= tilt:\n",
    "                singleRow.append(100)\n",
    "            else:\n",
    "                singleRow.append(0)\n",
    "        matrix.append(singleRow)\n",
    "\n",
    "    # matrix = np.zeros((len(angles) + 1, len(azimuths) + 1), dtype=int)\n",
    "    # matrix[0, 1:] = azimuths\n",
    "    # matrix[1:, 0] = angles\n",
    "\n",
    "    # for i, angle in enumerate(angles):\n",
    "    #     for j, tilt in enumerate(tilts):\n",
    "    #         if angle <= tilt:\n",
    "    #             matrix[i + 1, j + 1] = 100\n",
    "\n",
    "    return matrix\n",
    "\n",
    "shadingMatrix = get_matrix(tilts)"
   ]
  },
  {
   "cell_type": "code",
   "execution_count": 64,
   "metadata": {},
   "outputs": [
    {
     "data": {
      "text/html": [
       "<div>\n",
       "<style scoped>\n",
       "    .dataframe tbody tr th:only-of-type {\n",
       "        vertical-align: middle;\n",
       "    }\n",
       "\n",
       "    .dataframe tbody tr th {\n",
       "        vertical-align: top;\n",
       "    }\n",
       "\n",
       "    .dataframe thead th {\n",
       "        text-align: right;\n",
       "    }\n",
       "</style>\n",
       "<table border=\"1\" class=\"dataframe\">\n",
       "  <thead>\n",
       "    <tr style=\"text-align: right;\">\n",
       "      <th></th>\n",
       "      <th>cluster</th>\n",
       "      <th>A</th>\n",
       "      <th>B</th>\n",
       "      <th>D</th>\n",
       "      <th>tilt</th>\n",
       "      <th>azimuth</th>\n",
       "      <th>silhouette</th>\n",
       "      <th>geometry</th>\n",
       "    </tr>\n",
       "  </thead>\n",
       "  <tbody>\n",
       "    <tr>\n",
       "      <th>2</th>\n",
       "      <td>1</td>\n",
       "      <td>-0.237036</td>\n",
       "      <td>0.244355</td>\n",
       "      <td>-1.017541e+06</td>\n",
       "      <td>18.8</td>\n",
       "      <td>135.871064</td>\n",
       "      <td>0.850265</td>\n",
       "      <td>POLYGON ((433933.943 4585214.663, 433933.943 4...</td>\n",
       "    </tr>\n",
       "  </tbody>\n",
       "</table>\n",
       "</div>"
      ],
      "text/plain": [
       "   cluster         A         B             D  tilt     azimuth  silhouette  \\\n",
       "2        1 -0.237036  0.244355 -1.017541e+06  18.8  135.871064    0.850265   \n",
       "\n",
       "                                            geometry  \n",
       "2  POLYGON ((433933.943 4585214.663, 433933.943 4...  "
      ]
     },
     "execution_count": 64,
     "metadata": {},
     "output_type": "execute_result"
    }
   ],
   "source": [
    "planeIdGDF = gpd.read_file(\"/home/jaumeasensio/Documents/Projectes/BEEGroup/solar_potencial_estimation_v3/Results/Test_70_el Besòs i el Maresme/Parcels/4054901DF3845C/408/Plane Identification/408.gpkg\")\n",
    "plane = planeIdGDF[planeIdGDF.cluster == 1]\n",
    "\n",
    "def getInfoRoof(plane):\n",
    "    tilt = plane.tilt.values[0]\n",
    "    azimuth = plane.azimuth.values[0]\n",
    "    area = plane.area.values[0]/math.cos(tilt*math.pi/180)\n",
    "    return  area, tilt, azimuth\n",
    "    \n",
    "area, tilt, azimuth = getInfoRoof(plane)\n",
    "plane"
   ]
  },
  {
   "cell_type": "code",
   "execution_count": 65,
   "metadata": {},
   "outputs": [],
   "source": [
    "def runPySAMSimulation(file_names, tilts, plane, tmyfile, exportPath):\n",
    "    pv, grid = loadModules(file_names)\n",
    "    shadingMatrix = get_matrix(tilts)\n",
    "\n",
    "    area, tilt, azimuth = getInfoRoof(plane)\n",
    "    \n",
    "    ratio=0.400/(1.879*1.045)\n",
    "\n",
    "    modifiedParams = {\"shading_azal\": shadingMatrix,\n",
    "        \"system_capacity\": area*ratio, #*self.pv.value(\"gcr\"), #We don't need the area by the ground coverage ratio\n",
    "        \"tilt\": tilt,\n",
    "        \"azimuth\": azimuth,\n",
    "        \"solar_resource_file\": tmyfile}\n",
    "\n",
    "    for i in range(len(modifiedParams)): \n",
    "        pv.value(list(modifiedParams.keys())[i], list(modifiedParams.values())[i])\n",
    "\n",
    "    modules = [pv, grid]\n",
    "    \n",
    "    for m in modules:\n",
    "        m.execute()\n",
    "\n",
    "    generation = pv.export()[\"Outputs\"][\"ac\"]\n",
    "    generation = np.array(generation).reshape(365, 24)\n",
    "    generation_df = pd.DataFrame(generation)\n",
    "    \n",
    "    # generation_df.to_csv((exportPath + '.csv'), index=False)\n",
    "    # return generation_df/area\n",
    "    return pv.export()[\"Outputs\"]\n",
    "\n",
    "tmyfile = \"/home/jaumeasensio/Documents/Projectes/BEEGroup/solar_potencial_estimation_v3/RAW_Data/TMY/NREL/419806_41.41_2.22_tmy-2022.csv\"\n",
    "generation = runPySAMSimulation(file_names, tilts, plane, tmyfile, \"exportPath\")"
   ]
  },
  {
   "cell_type": "code",
   "execution_count": 66,
   "metadata": {},
   "outputs": [
    {
     "data": {
      "text/plain": [
       "dict_keys(['ac', 'ac_annual', 'ac_annual_pre_adjust', 'ac_monthly', 'ac_pre_adjust', 'alb', 'annual_energy', 'annual_energy_distribution_time', 'aoi', 'capacity_factor', 'capacity_factor_ac', 'city', 'dc', 'dc_monthly', 'dcsnowderate', 'df', 'dn', 'elev', 'gen', 'gh', 'inv_eff_output', 'inverter_efficiency', 'kwh_per_kw', 'lat', 'location', 'lon', 'monthly_energy', 'percent_complete', 'poa', 'poa_monthly', 'shad_beam_factor', 'snow', 'soiling_f', 'solrad_annual', 'solrad_monthly', 'ss_beam_factor', 'ss_gnd_diffuse_factor', 'ss_sky_diffuse_factor', 'state', 'sunup', 'tamb', 'tcell', 'tpoa', 'ts_shift_hours', 'tz', 'wspd'])"
      ]
     },
     "execution_count": 66,
     "metadata": {},
     "output_type": "execute_result"
    }
   ],
   "source": [
    "generation.keys()"
   ]
  },
  {
   "cell_type": "code",
   "execution_count": 70,
   "metadata": {},
   "outputs": [
    {
     "data": {
      "text/plain": [
       "1729310.0062196068"
      ]
     },
     "execution_count": 70,
     "metadata": {},
     "output_type": "execute_result"
    }
   ],
   "source": [
    "sum(generation[\"poa\"])"
   ]
  },
  {
   "cell_type": "code",
   "execution_count": 60,
   "metadata": {},
   "outputs": [
    {
     "data": {
      "text/plain": [
       "1729.3100062196077"
      ]
     },
     "execution_count": 60,
     "metadata": {},
     "output_type": "execute_result"
    }
   ],
   "source": [
    "sum(generation[\"poa_monthly\"])"
   ]
  },
  {
   "cell_type": "code",
   "execution_count": 58,
   "metadata": {},
   "outputs": [
    {
     "data": {
      "text/plain": [
       "4.731790645496262"
      ]
     },
     "execution_count": 58,
     "metadata": {},
     "output_type": "execute_result"
    }
   ],
   "source": [
    "sum(generation[\"solrad_monthly\"])/12"
   ]
  },
  {
   "cell_type": "code",
   "execution_count": 102,
   "metadata": {},
   "outputs": [
    {
     "data": {
      "text/plain": [
       "39607.09450683009"
      ]
     },
     "execution_count": 102,
     "metadata": {},
     "output_type": "execute_result"
    }
   ],
   "source": [
    "sum(generation[\"dc_monthly\"])"
   ]
  },
  {
   "cell_type": "code",
   "execution_count": 87,
   "metadata": {},
   "outputs": [
    {
     "data": {
      "text/plain": [
       "[0, 31, 59, 90, 120, 151, 181, 212, 243, 273, 304, 334, 365]"
      ]
     },
     "execution_count": 87,
     "metadata": {},
     "output_type": "execute_result"
    }
   ],
   "source": [
    "days = [0, 31, 28, 31, 30, 31, 30, 31, 31, 30, 31, 30, 31]\n",
    "from itertools import accumulate\n",
    "cumulative_sum = list(accumulate(days))\n",
    "cumulative_sum"
   ]
  },
  {
   "cell_type": "code",
   "execution_count": 99,
   "metadata": {},
   "outputs": [
    {
     "data": {
      "text/plain": [
       "array([0.00000000e+00, 0.00000000e+00, 0.00000000e+00, 0.00000000e+00,\n",
       "       0.00000000e+00, 0.00000000e+00, 0.00000000e+00, 9.78394081e+01,\n",
       "       1.93906492e+03, 4.82156395e+03, 9.34980015e+03, 1.06828922e+04,\n",
       "       1.05325578e+04, 9.40722935e+03, 6.50660864e+03, 2.51250333e+03,\n",
       "       3.59878346e+02, 0.00000000e+00, 0.00000000e+00, 0.00000000e+00,\n",
       "       0.00000000e+00, 0.00000000e+00, 0.00000000e+00, 0.00000000e+00,\n",
       "       0.00000000e+00, 0.00000000e+00, 0.00000000e+00, 0.00000000e+00,\n",
       "       0.00000000e+00, 0.00000000e+00, 0.00000000e+00, 1.69040672e+03,\n",
       "       5.18679054e+03, 8.22156695e+03, 1.29343213e+04, 1.40401744e+04,\n",
       "       1.32676365e+04, 1.13635526e+04, 8.08107566e+03, 4.44322937e+03,\n",
       "       1.09905491e+03, 8.04986908e+01, 0.00000000e+00, 0.00000000e+00,\n",
       "       0.00000000e+00, 0.00000000e+00, 0.00000000e+00, 0.00000000e+00,\n",
       "       0.00000000e+00, 0.00000000e+00, 0.00000000e+00, 0.00000000e+00,\n",
       "       0.00000000e+00, 0.00000000e+00, 4.19173430e+02, 3.14859153e+03,\n",
       "       6.30488621e+03, 1.19224900e+04, 1.51127689e+04, 1.56227526e+04,\n",
       "       1.50531449e+04, 1.43449846e+04, 1.06782760e+04, 6.51175638e+03,\n",
       "       2.66177781e+03, 4.66025652e+02, 0.00000000e+00, 0.00000000e+00,\n",
       "       0.00000000e+00, 0.00000000e+00, 0.00000000e+00, 0.00000000e+00,\n",
       "       0.00000000e+00, 0.00000000e+00, 0.00000000e+00, 0.00000000e+00,\n",
       "       0.00000000e+00, 1.66896616e+02, 3.47234660e+03, 7.52624374e+03,\n",
       "       1.10769512e+04, 1.55911586e+04, 1.74572650e+04, 1.67518698e+04,\n",
       "       1.62549206e+04, 1.41860853e+04, 1.12206522e+04, 7.07142224e+03,\n",
       "       3.34284711e+03, 1.12835838e+03, 1.05280415e+02, 0.00000000e+00,\n",
       "       0.00000000e+00, 0.00000000e+00, 0.00000000e+00, 0.00000000e+00,\n",
       "       0.00000000e+00, 0.00000000e+00, 0.00000000e+00, 0.00000000e+00,\n",
       "       0.00000000e+00, 1.90732307e+03, 5.11360237e+03, 9.14690041e+03,\n",
       "       1.28253041e+04, 1.57532590e+04, 1.68350143e+04, 1.80968611e+04,\n",
       "       1.82974048e+04, 1.62373194e+04, 1.38931949e+04, 9.71188852e+03,\n",
       "       4.77395356e+03, 1.72007571e+03, 6.32689756e+02, 0.00000000e+00,\n",
       "       0.00000000e+00, 0.00000000e+00, 0.00000000e+00, 0.00000000e+00,\n",
       "       0.00000000e+00, 0.00000000e+00, 0.00000000e+00, 0.00000000e+00,\n",
       "       0.00000000e+00, 2.66433228e+03, 7.39576594e+03, 1.25439077e+04,\n",
       "       1.66058147e+04, 1.82755415e+04, 1.99223537e+04, 2.09149647e+04,\n",
       "       2.00875381e+04, 1.78681500e+04, 1.44024427e+04, 1.04337601e+04,\n",
       "       5.75464376e+03, 2.10697094e+03, 1.01078763e+03, 0.00000000e+00,\n",
       "       0.00000000e+00, 0.00000000e+00, 0.00000000e+00, 0.00000000e+00,\n",
       "       0.00000000e+00, 0.00000000e+00, 0.00000000e+00, 0.00000000e+00,\n",
       "       0.00000000e+00, 1.81812933e+03, 6.58955100e+03, 1.12851882e+04,\n",
       "       1.50281245e+04, 1.77680833e+04, 1.83424431e+04, 1.94880543e+04,\n",
       "       1.84864522e+04, 1.63034243e+04, 1.37299232e+04, 1.02845921e+04,\n",
       "       5.55008996e+03, 2.13205886e+03, 9.25321667e+02, 0.00000000e+00,\n",
       "       0.00000000e+00, 0.00000000e+00, 0.00000000e+00, 0.00000000e+00,\n",
       "       0.00000000e+00, 0.00000000e+00, 0.00000000e+00, 0.00000000e+00,\n",
       "       0.00000000e+00, 3.73934732e+02, 4.75449116e+03, 9.93678313e+03,\n",
       "       1.34918562e+04, 1.56877169e+04, 1.77019966e+04, 1.88483144e+04,\n",
       "       1.82821407e+04, 1.62123075e+04, 1.33225291e+04, 9.06806630e+03,\n",
       "       4.31224666e+03, 1.49099899e+03, 4.07313506e+02, 0.00000000e+00,\n",
       "       0.00000000e+00, 0.00000000e+00, 0.00000000e+00, 0.00000000e+00,\n",
       "       0.00000000e+00, 0.00000000e+00, 0.00000000e+00, 0.00000000e+00,\n",
       "       0.00000000e+00, 0.00000000e+00, 3.24208300e+03, 7.66365736e+03,\n",
       "       1.12780226e+04, 1.63672871e+04, 1.59948275e+04, 1.65445483e+04,\n",
       "       1.54467435e+04, 1.32832540e+04, 9.94696810e+03, 5.90288335e+03,\n",
       "       2.03763740e+03, 5.21472316e+02, 0.00000000e+00, 0.00000000e+00,\n",
       "       0.00000000e+00, 0.00000000e+00, 0.00000000e+00, 0.00000000e+00,\n",
       "       0.00000000e+00, 0.00000000e+00, 0.00000000e+00, 0.00000000e+00,\n",
       "       0.00000000e+00, 0.00000000e+00, 6.78990645e+02, 4.38977109e+03,\n",
       "       9.42030248e+03, 1.12901312e+04, 1.34286054e+04, 1.41186119e+04,\n",
       "       1.32116505e+04, 1.06560781e+04, 7.64442657e+03, 3.41025948e+03,\n",
       "       8.23930785e+02, 1.20419656e+01, 0.00000000e+00, 0.00000000e+00,\n",
       "       0.00000000e+00, 0.00000000e+00, 0.00000000e+00, 0.00000000e+00,\n",
       "       0.00000000e+00, 0.00000000e+00, 0.00000000e+00, 0.00000000e+00,\n",
       "       0.00000000e+00, 0.00000000e+00, 0.00000000e+00, 2.28721828e+03,\n",
       "       5.71564988e+03, 8.80508697e+03, 1.07036795e+04, 1.10537884e+04,\n",
       "       9.64958980e+03, 7.88168188e+03, 4.80797648e+03, 1.36547889e+03,\n",
       "       1.21004440e+02, 0.00000000e+00, 0.00000000e+00, 0.00000000e+00,\n",
       "       0.00000000e+00, 0.00000000e+00, 0.00000000e+00, 0.00000000e+00,\n",
       "       0.00000000e+00, 0.00000000e+00, 0.00000000e+00, 0.00000000e+00,\n",
       "       0.00000000e+00, 0.00000000e+00, 0.00000000e+00, 2.10087430e+02,\n",
       "       2.07688696e+03, 4.84283155e+03, 8.33607912e+03, 1.12395045e+04,\n",
       "       1.01142276e+04, 7.71715132e+03, 4.52694522e+03, 1.23103261e+03,\n",
       "       1.20472222e+01, 0.00000000e+00, 0.00000000e+00, 0.00000000e+00,\n",
       "       0.00000000e+00, 0.00000000e+00, 0.00000000e+00, 0.00000000e+00])"
      ]
     },
     "execution_count": 99,
     "metadata": {},
     "output_type": "execute_result"
    }
   ],
   "source": [
    "DCOut = np.array(generation[\"dc\"]).reshape(365, 24)\n",
    "averages = np.zeros((12,24))\n",
    "for month in range(12):\n",
    "    for hour in range(24):\n",
    "        averages[month,hour] = np.average(DCOut[cumulative_sum[month]:cumulative_sum[month+1],hour])\n",
    "averages = averages.reshape(12*24)"
   ]
  },
  {
   "cell_type": "code",
   "execution_count": null,
   "metadata": {},
   "outputs": [],
   "source": []
  },
  {
   "cell_type": "markdown",
   "metadata": {},
   "source": [
    "# As a function"
   ]
  },
  {
   "cell_type": "code",
   "execution_count": 12,
   "metadata": {},
   "outputs": [],
   "source": [
    "import json\n",
    "import pandas as pd\n",
    "import numpy as np\n",
    "import PySAM.Pvwattsv8 as PVWatts\n",
    "import PySAM.Grid as Grid\n",
    "import csv\n",
    "import os\n",
    "import geopandas as gpd\n",
    "import math"
   ]
  },
  {
   "cell_type": "code",
   "execution_count": 13,
   "metadata": {},
   "outputs": [],
   "source": [
    "def loadModules(file_names):\n",
    "    pv = PVWatts.new()\n",
    "    grid = Grid.from_existing(pv)\n",
    "\n",
    "    with open(file_names[0], 'r') as file:\n",
    "        data = json.load(file)\n",
    "        for k, v in data.items():\n",
    "                pv.value(k, v)\n",
    "\n",
    "    with open(file_names[1], 'r') as file:\n",
    "        data = json.load(file)\n",
    "        for k, v in data.items():\n",
    "                grid.value(k, v)\n",
    "\n",
    "    return pv, grid\n",
    "\n",
    "def get_matrix(tilts):\n",
    "    tilts = tilts.round()\n",
    "    angles = np.unique(tilts)\n",
    "    azimuths = np.arange(0, 360, 1)\n",
    "\n",
    "    matrix = []\n",
    "    singleRow = []\n",
    "    singleRow.append(0)\n",
    "    for angle in azimuths:\n",
    "        singleRow.append(angle)\n",
    "\n",
    "    matrix.append(singleRow)\n",
    "    for i, angle in enumerate(angles):\n",
    "        singleRow = []\n",
    "        singleRow.append(angle)\n",
    "        for j, tilt in enumerate(tilts):\n",
    "            if angle <= tilt:\n",
    "                singleRow.append(100)\n",
    "            else:\n",
    "                singleRow.append(0)\n",
    "        matrix.append(singleRow)\n",
    "    return matrix\n",
    "\n",
    "\n",
    "def runPySAMSimulation(file_names, tilts, plane, tmyfile, exportPath):\n",
    "    pv, grid = loadModules(file_names)\n",
    "    shadingMatrix = get_matrix(tilts)\n",
    "\n",
    "    area, tilt, azimuth = getInfoRoof(plane)\n",
    "    \n",
    "    ratio=0.400/(1.879*1.045)\n",
    "\n",
    "    modifiedParams = {\"shading_azal\": shadingMatrix,\n",
    "        \"system_capacity\": area*ratio, #*self.pv.value(\"gcr\"), #We don't need the area by the ground coverage ratio\n",
    "        \"tilt\": tilt,\n",
    "        \"azimuth\": azimuth,\n",
    "        \"solar_resource_file\": tmyfile}\n",
    "\n",
    "    for i in range(len(modifiedParams)): \n",
    "        pv.value(list(modifiedParams.keys())[i], list(modifiedParams.values())[i])\n",
    "\n",
    "    modules = [pv, grid]\n",
    "    \n",
    "    for m in modules:\n",
    "        m.execute()\n",
    "\n",
    "    generation = pv.export()[\"Outputs\"][\"ac\"]\n",
    "    generation = np.array(generation).reshape(365, 24)\n",
    "    generation_df = pd.DataFrame(generation)\n",
    "    \n",
    "    # generation_df.to_csv((exportPath + '.csv'), index=False)\n",
    "    return generation_df/area\n",
    "\n"
   ]
  },
  {
   "cell_type": "code",
   "execution_count": 14,
   "metadata": {},
   "outputs": [
    {
     "name": "stdout",
     "output_type": "stream",
     "text": [
      "272938.68342764745\n"
     ]
    }
   ],
   "source": [
    "file_names = [\"/home/jaumeasensio/Documents/Projectes/BEEGroup/solar_potencial_estimation_v3/Scripts/sunEstimation/pysam_template_pvwattsv8.json\",\n",
    "    \"/home/jaumeasensio/Documents/Projectes/BEEGroup/solar_potencial_estimation_v3/Scripts/sunEstimation/pysam_template_grid.json\"]\n",
    "\n",
    "tmyfile = \"/home/jaumeasensio/Documents/Projectes/BEEGroup/solar_potencial_estimation_v3/RAW_Data/TMY/NREL/419806_41.41_2.22_tmy-2022.csv\"\n",
    "\n",
    "basePath = \"/home/jaumeasensio/Documents/Projectes/BEEGroup/solar_potencial_estimation_v3/\"\n",
    "neighborhood = \"Test_70_el Besòs i el Maresme\"\n",
    "parcelsFolder = basePath + \"/Results/\" + neighborhood + \"/Parcels/\"\n",
    "\n",
    "annual_ac = 0\n",
    "\n",
    "for parcel in os.listdir(parcelsFolder):\n",
    "    parcelSubfolder = parcelsFolder + parcel + \"/\"\n",
    "    for construction in [x for x in os.listdir(parcelSubfolder) if os.path.isdir(parcelSubfolder + x)]:\n",
    "        constructionFolder = parcelSubfolder + construction + \"/\"\n",
    "        planesGDF = gpd.read_file(constructionFolder + \"Plane Identification/\" + construction + \".gpkg\")\n",
    "        for cluster in planesGDF.cluster.values:\n",
    "            shadingFile = constructionFolder + \"/Shading/\" + str(cluster) + \".csv\"\n",
    "            plane = planesGDF[planesGDF.cluster == cluster]\n",
    "            if os.path.isfile(shadingFile):\n",
    "                if(os.stat(shadingFile).st_size > 0):\n",
    "                    shadingProfilesDF = pd.read_csv(shadingFile, header=None)\n",
    "                    tilts = shadingProfilesDF.iloc[0][3:363]\n",
    "\n",
    "                    generation_df = runPySAMSimulation(file_names, tilts, plane, tmyfile, \"exportPath\")\n",
    "                    annual_ac = generation_df.sum().sum()        \n",
    "print(annual_ac)"
   ]
  },
  {
   "cell_type": "code",
   "execution_count": 36,
   "metadata": {},
   "outputs": [
    {
     "data": {
      "text/plain": [
       "'/home/jaumeasensio/Documents/Projectes/BEEGroup/solar_potencial_estimation_v3//Results/Test_70_el Besòs i el Maresme/Parcels/4151302DF3845A/139//Shading/12.csv'"
      ]
     },
     "execution_count": 36,
     "metadata": {},
     "output_type": "execute_result"
    }
   ],
   "source": [
    "shadingFile"
   ]
  }
 ],
 "metadata": {
  "kernelspec": {
   "display_name": "qgis_stable",
   "language": "python",
   "name": "python3"
  },
  "language_info": {
   "codemirror_mode": {
    "name": "ipython",
    "version": 3
   },
   "file_extension": ".py",
   "mimetype": "text/x-python",
   "name": "python",
   "nbconvert_exporter": "python",
   "pygments_lexer": "ipython3",
   "version": "3.12.6"
  }
 },
 "nbformat": 4,
 "nbformat_minor": 2
}
