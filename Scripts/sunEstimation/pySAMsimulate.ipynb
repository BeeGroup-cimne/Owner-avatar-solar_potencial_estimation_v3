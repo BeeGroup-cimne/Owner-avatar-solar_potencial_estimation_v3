{
 "cells": [
  {
   "cell_type": "markdown",
   "metadata": {},
   "source": []
  },
  {
   "cell_type": "code",
   "execution_count": 1,
   "metadata": {},
   "outputs": [],
   "source": [
    "import json\n",
    "import pandas as pd\n",
    "import numpy as np\n",
    "import PySAM.Pvwattsv8 as PVWatts\n",
    "import PySAM.Grid as Grid\n",
    "import csv\n",
    "import matplotlib.pyplot as plt\n",
    "from datetime import datetime\n",
    "from matplotlib.dates import DateFormatter\n",
    "import geopandas as gpd\n",
    "import math"
   ]
  },
  {
   "cell_type": "code",
   "execution_count": 2,
   "metadata": {},
   "outputs": [
    {
     "data": {
      "text/plain": [
       "(<Pvwattsv8 at 0x7eff90052820>, <Grid at 0x7eff90051d40>)"
      ]
     },
     "execution_count": 2,
     "metadata": {},
     "output_type": "execute_result"
    }
   ],
   "source": [
    "def loadModules(file_names):\n",
    "    pv = PVWatts.new()\n",
    "    grid = Grid.from_existing(pv)\n",
    "\n",
    "    with open(file_names[0], 'r') as file:\n",
    "        data = json.load(file)\n",
    "        for k, v in data.items():\n",
    "                pv.value(k, v)\n",
    "\n",
    "    with open(file_names[1], 'r') as file:\n",
    "        data = json.load(file)\n",
    "        for k, v in data.items():\n",
    "                grid.value(k, v)\n",
    "\n",
    "    return pv, grid\n",
    "\n",
    "file_names = [\"/home/jaumeasensio/Documents/Projectes/BEEGroup/solar_potencial_estimation_v3/Scripts/sunEstimation/pysam_template_pvwattsv8.json\",\n",
    "    \"/home/jaumeasensio/Documents/Projectes/BEEGroup/solar_potencial_estimation_v3/Scripts/sunEstimation/pysam_template_grid.json\"]\n",
    "\n",
    "loadModules(file_names)"
   ]
  },
  {
   "cell_type": "code",
   "execution_count": 5,
   "metadata": {},
   "outputs": [],
   "source": [
    "planeFile = \"/home/jaumeasensio/Documents/Projectes/BEEGroup/solar_potencial_estimation_v3/Results/Test_70_el Besòs i el Maresme/Parcels/4157903DF3845E/86/Shading/13.csv\"\n",
    "shadingProfilesDF = pd.read_csv(planeFile, header=None)\n",
    "tilts = shadingProfilesDF.iloc[0][3:363]\n",
    "\n",
    "\n",
    "def get_matrix(tilts):\n",
    "    tilts = tilts.round()\n",
    "    angles = np.unique(tilts)\n",
    "    azimuths = np.arange(0, 360, 1)\n",
    "\n",
    "    matrix = []\n",
    "    singleRow = []\n",
    "    singleRow.append(0)\n",
    "    for angle in azimuths:\n",
    "        singleRow.append(angle)\n",
    "\n",
    "    matrix.append(singleRow)\n",
    "    for i, angle in enumerate(angles):\n",
    "        singleRow = []\n",
    "        singleRow.append(angle)\n",
    "        for j, tilt in enumerate(tilts):\n",
    "            if angle <= tilt:\n",
    "                singleRow.append(100)\n",
    "            else:\n",
    "                singleRow.append(0)\n",
    "        matrix.append(singleRow)\n",
    "\n",
    "    # matrix = np.zeros((len(angles) + 1, len(azimuths) + 1), dtype=int)\n",
    "    # matrix[0, 1:] = azimuths\n",
    "    # matrix[1:, 0] = angles\n",
    "\n",
    "    # for i, angle in enumerate(angles):\n",
    "    #     for j, tilt in enumerate(tilts):\n",
    "    #         if angle <= tilt:\n",
    "    #             matrix[i + 1, j + 1] = 100\n",
    "\n",
    "    return matrix\n",
    "\n",
    "shadingMatrix = get_matrix(tilts)"
   ]
  },
  {
   "cell_type": "code",
   "execution_count": 7,
   "metadata": {},
   "outputs": [
    {
     "data": {
      "text/html": [
       "<div>\n",
       "<style scoped>\n",
       "    .dataframe tbody tr th:only-of-type {\n",
       "        vertical-align: middle;\n",
       "    }\n",
       "\n",
       "    .dataframe tbody tr th {\n",
       "        vertical-align: top;\n",
       "    }\n",
       "\n",
       "    .dataframe thead th {\n",
       "        text-align: right;\n",
       "    }\n",
       "</style>\n",
       "<table border=\"1\" class=\"dataframe\">\n",
       "  <thead>\n",
       "    <tr style=\"text-align: right;\">\n",
       "      <th></th>\n",
       "      <th>cluster</th>\n",
       "      <th>A</th>\n",
       "      <th>B</th>\n",
       "      <th>D</th>\n",
       "      <th>tilt</th>\n",
       "      <th>azimuth</th>\n",
       "      <th>silhouette</th>\n",
       "      <th>geometry</th>\n",
       "    </tr>\n",
       "  </thead>\n",
       "  <tbody>\n",
       "    <tr>\n",
       "      <th>1</th>\n",
       "      <td>13</td>\n",
       "      <td>-0.115791</td>\n",
       "      <td>0.407912</td>\n",
       "      <td>-1.820217e+06</td>\n",
       "      <td>22.978</td>\n",
       "      <td>164.152739</td>\n",
       "      <td>-0.001242</td>\n",
       "      <td>MULTIPOLYGON (((434060.3 4585522.628, 434060.3...</td>\n",
       "    </tr>\n",
       "  </tbody>\n",
       "</table>\n",
       "</div>"
      ],
      "text/plain": [
       "   cluster         A         B             D    tilt     azimuth  silhouette  \\\n",
       "1       13 -0.115791  0.407912 -1.820217e+06  22.978  164.152739   -0.001242   \n",
       "\n",
       "                                            geometry  \n",
       "1  MULTIPOLYGON (((434060.3 4585522.628, 434060.3...  "
      ]
     },
     "execution_count": 7,
     "metadata": {},
     "output_type": "execute_result"
    }
   ],
   "source": [
    "planeIdGDF = gpd.read_file(\"/home/jaumeasensio/Documents/Projectes/BEEGroup/solar_potencial_estimation_v3/Results/Test_70_el Besòs i el Maresme/Parcels/4157903DF3845E/86/Plane Identification/86.gpkg\")\n",
    "plane = planeIdGDF[planeIdGDF.cluster == 13]\n",
    "\n",
    "def getInfoRoof(plane):\n",
    "    tilt = plane.tilt.values[0]\n",
    "    azimuth = plane.azimuth.values[0]\n",
    "    area = plane.area.values[0]/math.cos(tilt*math.pi/180)\n",
    "    return  area, tilt, azimuth\n",
    "    \n",
    "area, tilt, azimuth = getInfoRoof(plane)\n",
    "plane"
   ]
  },
  {
   "cell_type": "code",
   "execution_count": 10,
   "metadata": {},
   "outputs": [],
   "source": [
    "def runPySAMSimulation(file_names, tilts, plane, tmyfile, exportPath):\n",
    "    pv, grid = loadModules(file_names)\n",
    "    shadingMatrix = get_matrix(tilts)\n",
    "\n",
    "    area, tilt, azimuth = getInfoRoof(plane)\n",
    "    \n",
    "    ratio=0.400/(1.879*1.045)\n",
    "\n",
    "    modifiedParams = {\"shading_azal\": shadingMatrix,\n",
    "        \"system_capacity\": area*ratio, #*self.pv.value(\"gcr\"), #We don't need the area by the ground coverage ratio\n",
    "        \"tilt\": tilt,\n",
    "        \"azimuth\": azimuth,\n",
    "        \"solar_resource_file\": tmyfile}\n",
    "\n",
    "    for i in range(len(modifiedParams)): \n",
    "        pv.value(list(modifiedParams.keys())[i], list(modifiedParams.values())[i])\n",
    "\n",
    "    modules = [pv, grid]\n",
    "    \n",
    "    for m in modules:\n",
    "        m.execute()\n",
    "\n",
    "    generation = pv.export()[\"Outputs\"][\"ac\"]\n",
    "    generation = np.array(generation).reshape(365, 24)\n",
    "    generation_df = pd.DataFrame(generation)\n",
    "    \n",
    "    # generation_df.to_csv((exportPath + '.csv'), index=False)\n",
    "    return generation_df/area\n",
    "\n",
    "tmyfile = \"/home/jaumeasensio/Documents/Projectes/BEEGroup/solar_potencial_estimation_v3/RAW_Data/TMY/NREL/419806_41.41_2.22_tmy-2022.csv\"\n",
    "generation_df = runPySAMSimulation(file_names, tilts, plane, tmyfile, \"exportPath\")"
   ]
  },
  {
   "cell_type": "code",
   "execution_count": 11,
   "metadata": {},
   "outputs": [
    {
     "data": {
      "text/plain": [
       "0       0.000000\n",
       "1       0.000000\n",
       "2       0.000000\n",
       "3       0.000000\n",
       "4       0.000000\n",
       "5      12.316267\n",
       "6      51.356979\n",
       "7      91.611809\n",
       "8     122.625420\n",
       "9     146.708007\n",
       "10    162.003923\n",
       "11    166.493721\n",
       "12    161.551630\n",
       "13    146.043757\n",
       "14    122.725653\n",
       "15     92.710843\n",
       "16     53.958421\n",
       "17     26.957041\n",
       "18      9.423263\n",
       "19      0.000000\n",
       "20      0.000000\n",
       "21      0.000000\n",
       "22      0.000000\n",
       "23      0.000000\n",
       "dtype: float64"
      ]
     },
     "execution_count": 11,
     "metadata": {},
     "output_type": "execute_result"
    }
   ],
   "source": [
    "generation_df.max()"
   ]
  },
  {
   "cell_type": "markdown",
   "metadata": {},
   "source": [
    "# As a function"
   ]
  },
  {
   "cell_type": "code",
   "execution_count": 12,
   "metadata": {},
   "outputs": [],
   "source": [
    "import json\n",
    "import pandas as pd\n",
    "import numpy as np\n",
    "import PySAM.Pvwattsv8 as PVWatts\n",
    "import PySAM.Grid as Grid\n",
    "import csv\n",
    "import os\n",
    "import geopandas as gpd\n",
    "import math"
   ]
  },
  {
   "cell_type": "code",
   "execution_count": 13,
   "metadata": {},
   "outputs": [],
   "source": [
    "def loadModules(file_names):\n",
    "    pv = PVWatts.new()\n",
    "    grid = Grid.from_existing(pv)\n",
    "\n",
    "    with open(file_names[0], 'r') as file:\n",
    "        data = json.load(file)\n",
    "        for k, v in data.items():\n",
    "                pv.value(k, v)\n",
    "\n",
    "    with open(file_names[1], 'r') as file:\n",
    "        data = json.load(file)\n",
    "        for k, v in data.items():\n",
    "                grid.value(k, v)\n",
    "\n",
    "    return pv, grid\n",
    "\n",
    "def get_matrix(tilts):\n",
    "    tilts = tilts.round()\n",
    "    angles = np.unique(tilts)\n",
    "    azimuths = np.arange(0, 360, 1)\n",
    "\n",
    "    matrix = []\n",
    "    singleRow = []\n",
    "    singleRow.append(0)\n",
    "    for angle in azimuths:\n",
    "        singleRow.append(angle)\n",
    "\n",
    "    matrix.append(singleRow)\n",
    "    for i, angle in enumerate(angles):\n",
    "        singleRow = []\n",
    "        singleRow.append(angle)\n",
    "        for j, tilt in enumerate(tilts):\n",
    "            if angle <= tilt:\n",
    "                singleRow.append(100)\n",
    "            else:\n",
    "                singleRow.append(0)\n",
    "        matrix.append(singleRow)\n",
    "    return matrix\n",
    "\n",
    "\n",
    "def runPySAMSimulation(file_names, tilts, plane, tmyfile, exportPath):\n",
    "    pv, grid = loadModules(file_names)\n",
    "    shadingMatrix = get_matrix(tilts)\n",
    "\n",
    "    area, tilt, azimuth = getInfoRoof(plane)\n",
    "    \n",
    "    ratio=float(0.450/2)\n",
    "\n",
    "    modifiedParams = {\"shading_azal\": shadingMatrix,\n",
    "        \"system_capacity\": area*ratio, #*self.pv.value(\"gcr\"), #We don't need the area by the ground coverage ratio\n",
    "        \"tilt\": tilt,\n",
    "        \"azimuth\": azimuth,\n",
    "        \"solar_resource_file\": tmyfile}\n",
    "\n",
    "    for i in range(len(modifiedParams)): \n",
    "        pv.value(list(modifiedParams.keys())[i], list(modifiedParams.values())[i])\n",
    "\n",
    "    modules = [pv, grid]\n",
    "    \n",
    "    for m in modules:\n",
    "        m.execute()\n",
    "\n",
    "    generation = pv.export()[\"Outputs\"][\"ac\"]\n",
    "    generation = np.array(generation).reshape(365, 24)\n",
    "    generation_df = pd.DataFrame(generation)\n",
    "    \n",
    "    # generation_df.to_csv((exportPath + '.csv'), index=False)\n",
    "    return generation_df/area\n",
    "\n"
   ]
  },
  {
   "cell_type": "code",
   "execution_count": 14,
   "metadata": {},
   "outputs": [
    {
     "name": "stdout",
     "output_type": "stream",
     "text": [
      "272938.68342764745\n"
     ]
    }
   ],
   "source": [
    "file_names = [\"/home/jaumeasensio/Documents/Projectes/BEEGroup/solar_potencial_estimation_v3/Scripts/sunEstimation/pysam_template_pvwattsv8.json\",\n",
    "    \"/home/jaumeasensio/Documents/Projectes/BEEGroup/solar_potencial_estimation_v3/Scripts/sunEstimation/pysam_template_grid.json\"]\n",
    "\n",
    "tmyfile = \"/home/jaumeasensio/Documents/Projectes/BEEGroup/solar_potencial_estimation_v3/RAW_Data/TMY/NREL/419806_41.41_2.22_tmy-2022.csv\"\n",
    "\n",
    "basePath = \"/home/jaumeasensio/Documents/Projectes/BEEGroup/solar_potencial_estimation_v3/\"\n",
    "neighborhood = \"Test_70_el Besòs i el Maresme\"\n",
    "parcelsFolder = basePath + \"/Results/\" + neighborhood + \"/Parcels/\"\n",
    "\n",
    "annual_ac = 0\n",
    "\n",
    "for parcel in os.listdir(parcelsFolder):\n",
    "    parcelSubfolder = parcelsFolder + parcel + \"/\"\n",
    "    for construction in [x for x in os.listdir(parcelSubfolder) if os.path.isdir(parcelSubfolder + x)]:\n",
    "        constructionFolder = parcelSubfolder + construction + \"/\"\n",
    "        planesGDF = gpd.read_file(constructionFolder + \"Plane Identification/\" + construction + \".gpkg\")\n",
    "        for cluster in planesGDF.cluster.values:\n",
    "            shadingFile = constructionFolder + \"/Shading/\" + str(cluster) + \".csv\"\n",
    "            plane = planesGDF[planesGDF.cluster == cluster]\n",
    "            if os.path.isfile(shadingFile):\n",
    "                if(os.stat(shadingFile).st_size > 0):\n",
    "                    shadingProfilesDF = pd.read_csv(shadingFile, header=None)\n",
    "                    tilts = shadingProfilesDF.iloc[0][3:363]\n",
    "\n",
    "                    generation_df = runPySAMSimulation(file_names, tilts, plane, tmyfile, \"exportPath\")\n",
    "                    annual_ac = generation_df.sum().sum()        \n",
    "print(annual_ac)"
   ]
  },
  {
   "cell_type": "code",
   "execution_count": 36,
   "metadata": {},
   "outputs": [
    {
     "data": {
      "text/plain": [
       "'/home/jaumeasensio/Documents/Projectes/BEEGroup/solar_potencial_estimation_v3//Results/Test_70_el Besòs i el Maresme/Parcels/4151302DF3845A/139//Shading/12.csv'"
      ]
     },
     "execution_count": 36,
     "metadata": {},
     "output_type": "execute_result"
    }
   ],
   "source": [
    "shadingFile"
   ]
  }
 ],
 "metadata": {
  "kernelspec": {
   "display_name": "qgis_stable",
   "language": "python",
   "name": "python3"
  },
  "language_info": {
   "codemirror_mode": {
    "name": "ipython",
    "version": 3
   },
   "file_extension": ".py",
   "mimetype": "text/x-python",
   "name": "python",
   "nbconvert_exporter": "python",
   "pygments_lexer": "ipython3",
   "version": "3.12.6"
  }
 },
 "nbformat": 4,
 "nbformat_minor": 2
}
