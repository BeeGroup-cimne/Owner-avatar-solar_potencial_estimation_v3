{
 "cells": [
  {
   "cell_type": "code",
   "execution_count": 3,
   "metadata": {},
   "outputs": [],
   "source": [
    "import numpy as np\n",
    "import pandas as pd \n",
    "import matplotlib.pyplot as plt\n",
    "from planeIdentification import *\n",
    "from sklearn.cluster import DBSCAN, KMeans\n",
    "from sklearn.linear_model import LinearRegression\n",
    "from sklearn.metrics import root_mean_squared_error\n",
    "import shutil\n",
    "import os\n",
    "import time\n",
    "import itertools\n",
    "import tqdm\n",
    "import laspy"
   ]
  },
  {
   "cell_type": "code",
   "execution_count": 9,
   "metadata": {},
   "outputs": [
    {
     "data": {
      "text/html": [
       "<div>\n",
       "<style scoped>\n",
       "    .dataframe tbody tr th:only-of-type {\n",
       "        vertical-align: middle;\n",
       "    }\n",
       "\n",
       "    .dataframe tbody tr th {\n",
       "        vertical-align: top;\n",
       "    }\n",
       "\n",
       "    .dataframe thead th {\n",
       "        text-align: right;\n",
       "    }\n",
       "</style>\n",
       "<table border=\"1\" class=\"dataframe\">\n",
       "  <thead>\n",
       "    <tr style=\"text-align: right;\">\n",
       "      <th></th>\n",
       "      <th>experiment</th>\n",
       "      <th>min</th>\n",
       "      <th>avg</th>\n",
       "      <th>max</th>\n",
       "    </tr>\n",
       "  </thead>\n",
       "  <tbody>\n",
       "    <tr>\n",
       "      <th>0</th>\n",
       "      <td>KPlanes_distance_threshold_0.5__useDistanceSam...</td>\n",
       "      <td>0.465851</td>\n",
       "      <td>0.641456</td>\n",
       "      <td>0.970308</td>\n",
       "    </tr>\n",
       "    <tr>\n",
       "      <th>1</th>\n",
       "      <td>GradientDBSCAN_distance_threshold_0.5__squareS...</td>\n",
       "      <td>0.000000</td>\n",
       "      <td>0.488682</td>\n",
       "      <td>0.933120</td>\n",
       "    </tr>\n",
       "    <tr>\n",
       "      <th>2</th>\n",
       "      <td>GradientDBSCAN_distance_threshold_0.5__squareS...</td>\n",
       "      <td>0.000000</td>\n",
       "      <td>0.203659</td>\n",
       "      <td>0.700996</td>\n",
       "    </tr>\n",
       "    <tr>\n",
       "      <th>3</th>\n",
       "      <td>GradientDBSCAN_distance_threshold_0.5__squareS...</td>\n",
       "      <td>0.000000</td>\n",
       "      <td>0.284598</td>\n",
       "      <td>0.773235</td>\n",
       "    </tr>\n",
       "    <tr>\n",
       "      <th>4</th>\n",
       "      <td>KPlanes_distance_threshold_0.5__useDistanceSam...</td>\n",
       "      <td>0.417079</td>\n",
       "      <td>0.617515</td>\n",
       "      <td>0.871085</td>\n",
       "    </tr>\n",
       "    <tr>\n",
       "      <th>...</th>\n",
       "      <td>...</td>\n",
       "      <td>...</td>\n",
       "      <td>...</td>\n",
       "      <td>...</td>\n",
       "    </tr>\n",
       "    <tr>\n",
       "      <th>195</th>\n",
       "      <td>GradientDBSCAN_distance_threshold_0.5__squareS...</td>\n",
       "      <td>0.000000</td>\n",
       "      <td>0.374657</td>\n",
       "      <td>0.987685</td>\n",
       "    </tr>\n",
       "    <tr>\n",
       "      <th>196</th>\n",
       "      <td>GradientDBSCAN_distance_threshold_0.5__squareS...</td>\n",
       "      <td>0.000000</td>\n",
       "      <td>0.374657</td>\n",
       "      <td>0.987685</td>\n",
       "    </tr>\n",
       "    <tr>\n",
       "      <th>197</th>\n",
       "      <td>GradientDBSCAN_distance_threshold_0.5__squareS...</td>\n",
       "      <td>0.000000</td>\n",
       "      <td>0.481147</td>\n",
       "      <td>0.776775</td>\n",
       "    </tr>\n",
       "    <tr>\n",
       "      <th>198</th>\n",
       "      <td>GradientDBSCAN_distance_threshold_0.5__squareS...</td>\n",
       "      <td>0.000000</td>\n",
       "      <td>0.342400</td>\n",
       "      <td>0.944295</td>\n",
       "    </tr>\n",
       "    <tr>\n",
       "      <th>199</th>\n",
       "      <td>GradientDBSCAN_distance_threshold_0.5__squareS...</td>\n",
       "      <td>0.000000</td>\n",
       "      <td>0.243597</td>\n",
       "      <td>0.919374</td>\n",
       "    </tr>\n",
       "  </tbody>\n",
       "</table>\n",
       "<p>200 rows × 4 columns</p>\n",
       "</div>"
      ],
      "text/plain": [
       "                                            experiment       min       avg  \\\n",
       "0    KPlanes_distance_threshold_0.5__useDistanceSam...  0.465851  0.641456   \n",
       "1    GradientDBSCAN_distance_threshold_0.5__squareS...  0.000000  0.488682   \n",
       "2    GradientDBSCAN_distance_threshold_0.5__squareS...  0.000000  0.203659   \n",
       "3    GradientDBSCAN_distance_threshold_0.5__squareS...  0.000000  0.284598   \n",
       "4    KPlanes_distance_threshold_0.5__useDistanceSam...  0.417079  0.617515   \n",
       "..                                                 ...       ...       ...   \n",
       "195  GradientDBSCAN_distance_threshold_0.5__squareS...  0.000000  0.374657   \n",
       "196  GradientDBSCAN_distance_threshold_0.5__squareS...  0.000000  0.374657   \n",
       "197  GradientDBSCAN_distance_threshold_0.5__squareS...  0.000000  0.481147   \n",
       "198  GradientDBSCAN_distance_threshold_0.5__squareS...  0.000000  0.342400   \n",
       "199  GradientDBSCAN_distance_threshold_0.5__squareS...  0.000000  0.243597   \n",
       "\n",
       "          max  \n",
       "0    0.970308  \n",
       "1    0.933120  \n",
       "2    0.700996  \n",
       "3    0.773235  \n",
       "4    0.871085  \n",
       "..        ...  \n",
       "195  0.987685  \n",
       "196  0.987685  \n",
       "197  0.776775  \n",
       "198  0.944295  \n",
       "199  0.919374  \n",
       "\n",
       "[200 rows x 4 columns]"
      ]
     },
     "execution_count": 9,
     "metadata": {},
     "output_type": "execute_result"
    }
   ],
   "source": [
    "basePath = \"/home/jaumeasensio/Documents/Projectes/BEEGroup/solar_potencial_estimation_v3/\"\n",
    "neighborhood = \"Test_70_el Besòs i el Maresme\"\n",
    "\n",
    "experimentList = []\n",
    "minSilhouetteList = []\n",
    "avgSilhouetteList = []\n",
    "maxSilhouetteList = []\n",
    "\n",
    "baseOutputFolder = basePath + \"/Results/\" + neighborhood + \"/Testing Plane ID/\"\n",
    "for experiment in os.listdir(baseOutputFolder):\n",
    "    metricsFile = parcelsFolder = baseOutputFolder + experiment + \"/metrics.csv\"\n",
    "    metricsDF = pd.read_csv(metricsFile)\n",
    "    experimentList.append(experiment)\n",
    "    minSilhouetteList.append(metricsDF.silhouetteScore.min())\n",
    "    avgSilhouetteList.append(metricsDF.silhouetteScore.mean())\n",
    "    maxSilhouetteList.append(metricsDF.silhouetteScore.max())\n",
    "\n",
    "allMetricsDF = pd.DataFrame({\n",
    "    \"experiment\":experimentList,\n",
    "    \"min\": minSilhouetteList,\n",
    "    \"avg\": avgSilhouetteList,\n",
    "    \"max\": maxSilhouetteList\n",
    "})\n",
    "\n",
    "allMetricsDF"
   ]
  },
  {
   "cell_type": "code",
   "execution_count": 19,
   "metadata": {},
   "outputs": [],
   "source": [
    "DBSCANMetrics = allMetricsDF[allMetricsDF.experiment.str.startswith(\"GradientDBSCAN\")]\n",
    "DBSCANMetrics = DBSCANMetrics.sort_values(\"avg\", ascending=False).reset_index(drop=True)"
   ]
  },
  {
   "cell_type": "code",
   "execution_count": 28,
   "metadata": {},
   "outputs": [
    {
     "data": {
      "text/plain": [
       "'GradientDBSCAN_distance_threshold_0.5__squareSize_0.25_polar_False_DBSCANeps_1_DBSCANminSamples_4'"
      ]
     },
     "execution_count": 28,
     "metadata": {},
     "output_type": "execute_result"
    }
   ],
   "source": [
    "names = DBSCANMetrics.experiment\n",
    "names[0]"
   ]
  },
  {
   "cell_type": "code",
   "execution_count": 47,
   "metadata": {},
   "outputs": [],
   "source": [
    "squareSize = [float(name.split(\"squareSize_\")[1].split(\"_\")[0]) for name in names]\n",
    "polar = [(name.split(\"polar_\")[1].split(\"_\")[0] == 'True') for name in names]\n",
    "DBSCANeps = [float(name.split(\"DBSCANeps_\")[1].split(\"_\")[0]) for name in names]\n",
    "DBSCANminSamples = [float(name.split(\"DBSCANminSamples_\")[1].split(\"_\")[0]) for name in names]\n",
    "scores = DBSCANMetrics.avg.values"
   ]
  },
  {
   "cell_type": "code",
   "execution_count": 48,
   "metadata": {},
   "outputs": [
    {
     "data": {
      "text/plain": [
       "array([0.60595427, 0.60595427, 0.60595427, 0.60595427, 0.60595427,\n",
       "       0.60595427, 0.60595427, 0.60595427, 0.60066735, 0.60066735,\n",
       "       0.60066735, 0.60066735, 0.60066735, 0.60066735, 0.60066735,\n",
       "       0.60066735, 0.5593895 , 0.5593895 , 0.5593895 , 0.5593895 ,\n",
       "       0.5593895 , 0.5593895 , 0.5593895 , 0.5593895 , 0.52907804,\n",
       "       0.52907804, 0.52907804, 0.52907804, 0.52907804, 0.52907804,\n",
       "       0.52907804, 0.52907804, 0.48868168, 0.48868168, 0.48868168,\n",
       "       0.48868168, 0.48868168, 0.48868168, 0.48868168, 0.48868168,\n",
       "       0.4832733 , 0.4832733 , 0.4832733 , 0.4832733 , 0.4832733 ,\n",
       "       0.4832733 , 0.4832733 , 0.4832733 , 0.48141627, 0.48114729,\n",
       "       0.48114729, 0.48114729, 0.48114729, 0.48114729, 0.48114729,\n",
       "       0.48114729, 0.40417848, 0.40417848, 0.40417848, 0.40417848,\n",
       "       0.40417848, 0.40417848, 0.40417848, 0.40417848, 0.37465686,\n",
       "       0.37465686, 0.37465686, 0.37465686, 0.37465686, 0.37465686,\n",
       "       0.37465686, 0.37465686, 0.36586857, 0.36586857, 0.36586857,\n",
       "       0.36586857, 0.36586857, 0.36586857, 0.36586857, 0.36586857,\n",
       "       0.3423999 , 0.3423999 , 0.3423999 , 0.3423999 , 0.3423999 ,\n",
       "       0.3423999 , 0.3423999 , 0.3423999 , 0.3177544 , 0.3177544 ,\n",
       "       0.3177544 , 0.3177544 , 0.3177544 , 0.3177544 , 0.3177544 ,\n",
       "       0.3177544 , 0.28459793, 0.28459793, 0.28459793, 0.28459793,\n",
       "       0.28459793, 0.28459793, 0.28459793, 0.28459793, 0.24359701,\n",
       "       0.24359701, 0.24359701, 0.24359701, 0.24359701, 0.24359701,\n",
       "       0.24359701, 0.24359701, 0.20941381, 0.20365857, 0.20365857,\n",
       "       0.20365857, 0.20365857, 0.20365857, 0.20365857, 0.20365857,\n",
       "       0.        , 0.        , 0.        , 0.        , 0.        ,\n",
       "       0.        , 0.        , 0.        , 0.        , 0.        ,\n",
       "       0.        , 0.        , 0.        , 0.        , 0.        ,\n",
       "       0.        , 0.        , 0.        , 0.        , 0.        ,\n",
       "       0.        , 0.        , 0.        , 0.        ])"
      ]
     },
     "execution_count": 48,
     "metadata": {},
     "output_type": "execute_result"
    }
   ],
   "source": [
    "scores"
   ]
  },
  {
   "cell_type": "code",
   "execution_count": 62,
   "metadata": {},
   "outputs": [
    {
     "data": {
      "text/plain": [
       "<matplotlib.legend.Legend at 0x7f2061ffacf0>"
      ]
     },
     "execution_count": 62,
     "metadata": {},
     "output_type": "execute_result"
    },
    {
     "data": {
      "image/png": "[encoded data removed]",
      "text/plain": [
       "<Figure size 640x480 with 1 Axes>"
      ]
     },
     "metadata": {},
     "output_type": "display_data"
    }
   ],
   "source": [
    "plt.scatter(squareSize, DBSCANMetrics[\"avg\"].values, c=polar)\n",
    "plt.legend(np.unique(polar))"
   ]
  }
 ],
 "metadata": {
  "kernelspec": {
   "display_name": "qgis_stable",
   "language": "python",
   "name": "python3"
  },
  "language_info": {
   "codemirror_mode": {
    "name": "ipython",
    "version": 3
   },
   "file_extension": ".py",
   "mimetype": "text/x-python",
   "name": "python",
   "nbconvert_exporter": "python",
   "pygments_lexer": "ipython3",
   "version": "3.12.6"
  }
 },
 "nbformat": 4,
 "nbformat_minor": 2
}
