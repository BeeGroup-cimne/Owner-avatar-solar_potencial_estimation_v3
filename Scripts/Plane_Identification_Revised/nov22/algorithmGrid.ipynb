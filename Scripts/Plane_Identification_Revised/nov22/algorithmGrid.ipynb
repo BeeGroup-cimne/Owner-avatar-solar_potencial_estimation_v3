{
 "cells": [
  {
   "cell_type": "code",
   "execution_count": 1,
   "metadata": {},
   "outputs": [],
   "source": [
    "import numpy as np\n",
    "import pandas as pd \n",
    "import matplotlib.pyplot as plt\n",
    "from planeIdentification import *\n",
    "from sklearn.cluster import DBSCAN, KMeans\n",
    "import shutil\n",
    "import os\n",
    "import time"
   ]
  },
  {
   "cell_type": "code",
   "execution_count": 2,
   "metadata": {},
   "outputs": [],
   "source": [
    "def create_output_folder(directory, deleteFolder = False):\n",
    "    if not(os.path.isdir(directory)):\n",
    "        os.makedirs(directory)\n",
    "    else:\n",
    "        if(deleteFolder):\n",
    "            shutil.rmtree(directory)\n",
    "            os.makedirs(directory)"
   ]
  },
  {
   "cell_type": "code",
   "execution_count": 17,
   "metadata": {},
   "outputs": [
    {
     "data": {
      "text/plain": [
       "[{'name': 'DBSCAN',\n",
       "  'alg': [sklearn.cluster._dbscan.DBSCAN],\n",
       "  'parameters': [dict_keys(['eps', 'min_samples'])],\n",
       "  'values': [[[0.15, 1.5], [4, 10]]]},\n",
       " {'name': 'HEIGHTSPLIT',\n",
       "  'alg': [planeIdentification.heightSplit, planeIdentification.heightSplit],\n",
       "  'parameters': [dict_keys(['distance_threshold']),\n",
       "   dict_keys(['distance_threshold'])],\n",
       "  'values': [[[0.3, 0.45]], [[0.03, 0.045]]]}]"
      ]
     },
     "execution_count": 17,
     "metadata": {},
     "output_type": "execute_result"
    }
   ],
   "source": [
    "algorithms =[{\"name\":\"HEIGHTSPLIT\", \"alg\": [heightSplit], \"parameters\": [[\"distance_threshold\"]], \"values\": [[[0.3, 0.45, 0.6, 0.75, 0.9, 1.35, 1.5]]]},\n",
    "             {\"name\":\"DBSCAN\", \"alg\": [DBSCAN], \"parameters\": [[\"eps\", \"min_samples\"]], \"values\": [[[0.15, 0.3, 0.45, 0.6, 0.75, 0.9, 1.05, 1.2, 1.5, 1.8, 2.1], [1, 2, 4, 8, 10, 15, 20, 25, 50]]]}]\n",
    "\n",
    "params1 = {\"eps\":[0.15, 1.5], \n",
    "           \"min_samples\":[4, 10]}\n",
    "params2 = [{\"distance_threshold\":[0.3, 0.45, 0.6, 1]}, \n",
    "            {\n",
    "               \"inlierThreshold\":[0.15, 0.3, 0.025, 0.05, 0.075, 0.10, 0.20, 0.25, 0.3, 0.4, 0.5],\n",
    "               \"num_iterations\": [20, 10, 20, 50, 100]\n",
    "            }]\n",
    "\n",
    "algorithms =[{\"name\":\"DBSCAN\", \n",
    "              \"alg\": [DBSCAN], \n",
    "              \"parameters\": [params1.keys()], \n",
    "              \"values\": [[params1[key] for key in params1.keys()]]\n",
    "              },\n",
    "             {\"name\":\"PlaneClusterAlg\", \n",
    "              \"alg\": [heightSplit, PlanesCluster], \n",
    "              \"parameters\": [params2[i].keys() for i in range(len(params2))], \n",
    "              \"values\": [[params2[i][key] for key in params2[i].keys()]  for i in range(len(params2))]}]\n",
    "\n",
    "algorithms"
   ]
  },
  {
   "cell_type": "code",
   "execution_count": 22,
   "metadata": {},
   "outputs": [
    {
     "name": "stdout",
     "output_type": "stream",
     "text": [
      "[((0.15, 4),), ((0.15, 10),), ((1.5, 4),), ((1.5, 10),)]\n",
      "[((0.3,), (0.03,)), ((0.3,), (0.045,)), ((0.45,), (0.03,)), ((0.45,), (0.045,))]\n"
     ]
    }
   ],
   "source": [
    "import itertools\n",
    "\n",
    "basePath = \"/home/jaumeasensio/Documents/Projectes/BEEGroup/solar_potencial_estimation_v3/\"\n",
    "neighborhood = \"Test_70_el Besòs i el Maresme\"\n",
    "parcelsFolder = basePath + \"/Results/\" + neighborhood + \"/Parcels/\"\n",
    "\n",
    "for algo_dict in algorithms:\n",
    "    pipeline_classes = algo_dict[\"alg\"]\n",
    "    all_parameters = algo_dict[\"parameters\"]\n",
    "    all_values = algo_dict[\"values\"]\n",
    "    name = algo_dict[\"name\"]\n",
    "\n",
    "    # Create all combinations of parameter values using itertools.product\n",
    "    all_combinations = []\n",
    "    for params, values in zip(all_parameters, all_values):\n",
    "        # Create combinations for the current stage\n",
    "        param_combinations = list(itertools.product(*values))\n",
    "        all_combinations.append((params, param_combinations))\n",
    "    \n",
    "    stage_combinations = []\n",
    "    for combs in itertools.product(*[c[1] for c in all_combinations]):\n",
    "        stage_combinations.append(combs)\n",
    "\n",
    "    print(stage_combinations)\n",
    "    for stage_combination in stage_combinations:\n",
    "        pipeline_instances = []\n",
    "        paramNames = []\n",
    "        for stage_class, params, combination in zip(pipeline_classes, all_parameters, stage_combination):\n",
    "            param_dict = dict(zip(params, combination))\n",
    "            pipeline_instances.append(stage_class(**param_dict))\n",
    "            paramNames.append([name + \"_\" + str(x) for name, x in zip(params, combination)])\n",
    "        paramNames = [\"_\".join(names) for names in paramNames] \n",
    "        \n",
    "        baseOutputFolder = basePath + \"/Results/\" + neighborhood + \"/Testing Plane ID/\" + name + \"_\" + \"__\".join(paramNames) + \"/\"\n",
    "        create_output_folder(baseOutputFolder, deleteFolder=True)\n",
    "        timeList = []\n",
    "        parcelsList = []\n",
    "        constructionsList = []\n",
    "\n",
    "        for parcel in os.listdir(parcelsFolder)[0:2]:                \n",
    "            parcelSubfolder = parcelsFolder + parcel + \"/\"\n",
    "            for construction in [x for x in os.listdir(parcelSubfolder)[0:1] if os.path.isdir(parcelSubfolder + x)]:\n",
    "                constructionFolder = parcelSubfolder + construction\n",
    "\n",
    "                lasPath = constructionFolder + \"/Map files/\" + construction + \".laz\"\n",
    "                lasDF = laspy.read(lasPath)\n",
    "\n",
    "                start_time = time.time()\n",
    "\n",
    "                pipeline = ClusterPipeline(pipeline_instances)\n",
    "                pipeline.fit(lasDF.xyz)\n",
    "                pipeline.getAllPlanes(lasDF.xyz)\n",
    "\n",
    "                labels = pipeline.final_labels\n",
    "                lasDF.classification = labels\n",
    "                end_time = time.time()\n",
    "\n",
    "                timeList.append(end_time - start_time)\n",
    "                parcelsList.append(parcel)\n",
    "                constructionsList.append(construction)\n",
    "\n",
    "                summaryDF = pd.DataFrame({\"parcel\": parcelsList, \"construction\": constructionsList, \"cluster_time\": timeList})\n",
    "                summaryDF.to_csv(baseOutputFolder + \"Summary.csv\", index=False)\n",
    "\n",
    "                outputFolder = baseOutputFolder + \"/\" + parcel + \"/\"\n",
    "                create_output_folder(outputFolder)\n",
    "                lasDF.write(outputFolder + \"/\" + construction+\".laz\")"
   ]
  },
  {
   "cell_type": "code",
   "execution_count": 21,
   "metadata": {},
   "outputs": [
    {
     "ename": "TypeError",
     "evalue": "object of type 'itertools.product' has no len()",
     "output_type": "error",
     "traceback": [
      "\u001b[0;31m---------------------------------------------------------------------------\u001b[0m",
      "\u001b[0;31mTypeError\u001b[0m                                 Traceback (most recent call last)",
      "Cell \u001b[0;32mIn[21], line 1\u001b[0m\n\u001b[0;32m----> 1\u001b[0m \u001b[38;5;28;43mlen\u001b[39;49m\u001b[43m(\u001b[49m\u001b[43mitertools\u001b[49m\u001b[38;5;241;43m.\u001b[39;49m\u001b[43mproduct\u001b[49m\u001b[43m(\u001b[49m\u001b[38;5;241;43m*\u001b[39;49m\u001b[43m[\u001b[49m\u001b[43mc\u001b[49m\u001b[43m[\u001b[49m\u001b[38;5;241;43m1\u001b[39;49m\u001b[43m]\u001b[49m\u001b[43m \u001b[49m\u001b[38;5;28;43;01mfor\u001b[39;49;00m\u001b[43m \u001b[49m\u001b[43mc\u001b[49m\u001b[43m \u001b[49m\u001b[38;5;129;43;01min\u001b[39;49;00m\u001b[43m \u001b[49m\u001b[43mall_combinations\u001b[49m\u001b[43m]\u001b[49m\u001b[43m)\u001b[49m\u001b[43m)\u001b[49m\n",
      "\u001b[0;31mTypeError\u001b[0m: object of type 'itertools.product' has no len()"
     ]
    }
   ],
   "source": []
  },
  {
   "cell_type": "code",
   "execution_count": null,
   "metadata": {},
   "outputs": [],
   "source": []
  },
  {
   "cell_type": "code",
   "execution_count": 17,
   "metadata": {},
   "outputs": [
    {
     "name": "stdout",
     "output_type": "stream",
     "text": [
      "0.025 5\n",
      "0.05 10\n",
      "0.075 20\n",
      "0.1 50\n",
      "0.15 100\n"
     ]
    }
   ],
   "source": [
    "distancesLimits=[0.025, 0.05, 0.075, 0.10, 0.15, 0.20, 0.25, 0.3, 0.4, 0.5]\n",
    "iterationsLimits=[5, 10, 20, 50, 100]\n",
    "\n",
    "# for algorithm in algorithmLists:\n",
    "for inlierThreshold, num_iterations in zip(distancesLimits, iterationsLimits):\n",
    "    print(inlierThreshold, num_iterations)"
   ]
  }
 ],
 "metadata": {
  "kernelspec": {
   "display_name": "qgis_stable",
   "language": "python",
   "name": "python3"
  },
  "language_info": {
   "codemirror_mode": {
    "name": "ipython",
    "version": 3
   },
   "file_extension": ".py",
   "mimetype": "text/x-python",
   "name": "python",
   "nbconvert_exporter": "python",
   "pygments_lexer": "ipython3",
   "version": "3.12.6"
  }
 },
 "nbformat": 4,
 "nbformat_minor": 2
}
