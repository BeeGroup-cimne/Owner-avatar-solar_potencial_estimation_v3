{
 "cells": [
  {
   "cell_type": "code",
   "execution_count": 1,
   "metadata": {},
   "outputs": [],
   "source": [
    "import numpy as np\n",
    "import pandas as pd \n",
    "import matplotlib.pyplot as plt\n",
    "from planeIdentification import *"
   ]
  },
  {
   "cell_type": "code",
   "execution_count": 8,
   "metadata": {},
   "outputs": [],
   "source": [
    "def alg1(param1, param2):\n",
    "    print(param1, param2)\n",
    "\n",
    "def alg2(param11, param21):\n",
    "    print(param11, param21)\n",
    "\n",
    "algorithms =[{\"AlgorithmName\": alg1, \"parameters\": [\"param1\", \"param2\"], \"values\": [[1,2,3], [1.5, 2.5, 3.5]]}, \n",
    "             {\"AlgorithmName\": alg2, \"parameters\": [\"param11\", \"param21\"], \"values\": [[-1,-2,-3], [-1.5, -2.5, -3.5]]}]"
   ]
  },
  {
   "cell_type": "code",
   "execution_count": 10,
   "metadata": {},
   "outputs": [
    {
     "name": "stdout",
     "output_type": "stream",
     "text": [
      "1 1.5\n",
      "1 2.5\n",
      "1 3.5\n",
      "2 1.5\n",
      "2 2.5\n",
      "2 3.5\n",
      "3 1.5\n",
      "3 2.5\n",
      "3 3.5\n",
      "-1 -1.5\n",
      "-1 -2.5\n",
      "-1 -3.5\n",
      "-2 -1.5\n",
      "-2 -2.5\n",
      "-2 -3.5\n",
      "-3 -1.5\n",
      "-3 -2.5\n",
      "-3 -3.5\n"
     ]
    }
   ],
   "source": [
    "import itertools\n",
    "\n",
    "for algo_dict in algorithms:\n",
    "    algo_func = algo_dict[\"AlgorithmName\"]\n",
    "    params = algo_dict[\"parameters\"]\n",
    "    values = algo_dict[\"values\"]\n",
    "\n",
    "    # Create all combinations of parameter values using itertools.product\n",
    "    param_combinations = itertools.product(*values)\n",
    "    \n",
    "    for combination in param_combinations:\n",
    "        param_dict = dict(zip(params, combination))\n",
    "        # Unpack and pass the combination to the function\n",
    "        algo_func(**param_dict)"
   ]
  },
  {
   "cell_type": "code",
   "execution_count": 1,
   "metadata": {},
   "outputs": [
    {
     "name": "stdout",
     "output_type": "stream",
     "text": [
      "0.025 5\n",
      "0.05 10\n",
      "0.075 20\n",
      "0.1 50\n",
      "0.15 100\n"
     ]
    }
   ],
   "source": [
    "distancesLimits=[0.025, 0.05, 0.075, 0.10, 0.15, 0.20, 0.25, 0.3, 0.4, 0.5]\n",
    "iterationsLimits=[5, 10, 20, 50, 100]\n",
    "\n",
    "# for algorithm in algorithmLists:\n",
    "for inlierThreshold, num_iterations in zip(distancesLimits, iterationsLimits):\n",
    "    print(inlierThreshold, num_iterations)"
   ]
  }
 ],
 "metadata": {
  "kernelspec": {
   "display_name": "qgis_stable",
   "language": "python",
   "name": "python3"
  },
  "language_info": {
   "codemirror_mode": {
    "name": "ipython",
    "version": 3
   },
   "file_extension": ".py",
   "mimetype": "text/x-python",
   "name": "python",
   "nbconvert_exporter": "python",
   "pygments_lexer": "ipython3",
   "version": "3.12.6"
  }
 },
 "nbformat": 4,
 "nbformat_minor": 2
}
