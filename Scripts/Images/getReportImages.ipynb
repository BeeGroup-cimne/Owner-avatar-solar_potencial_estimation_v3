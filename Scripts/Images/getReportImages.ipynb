{
 "cells": [
  {
   "cell_type": "code",
   "execution_count": 1,
   "metadata": {},
   "outputs": [],
   "source": [
    "import numpy as np\n",
    "import pandas as pd \n",
    "import matplotlib.pyplot as plt\n",
    "import shutil\n",
    "import os\n",
    "import time\n",
    "import tqdm\n",
    "import laspy"
   ]
  },
  {
   "cell_type": "code",
   "execution_count": null,
   "metadata": {},
   "outputs": [],
   "source": [
    "basePath = \"/home/jaumeasensio/Documents/Projectes/BEEGroup/solar_potencial_estimation_v3/\"\n",
    "neighborhood = \"Test_70_el Besòs i el Maresme\""
   ]
  },
  {
   "cell_type": "markdown",
   "metadata": {},
   "source": [
    "# Get the original data"
   ]
  },
  {
   "cell_type": "code",
   "execution_count": null,
   "metadata": {},
   "outputs": [],
   "source": [
    "fig, axes = plt.subplots(3, 3, figsize=(15, 15), dpi=200)\n",
    "axes = axes.flatten()\n",
    "\n",
    "parcelsFolder = basePath + neighborhood + \"/Parcels/\"\n",
    "\n",
    "for parcel in os.listdir(parcelsFolder):\n",
    "    parcelSubfolder = parcelsFolder + parcel + \"/\"\n",
    "    for construction in [x for x in os.listdir(parcelSubfolder) if os.path.isdir(parcelSubfolder + x)]:\n",
    "        constructionFolder = parcelSubfolder + construction + \"/\"\n",
    "        laz_file = constructionFolder + \"/Map files/\" + construction + \".laz\"\n",
    "        lasDF = laspy.read(laz_file)\n",
    "        x = lasDF.x\n",
    "        y = lasDF.y\n",
    "        z = lasDF.z\n",
    "        scatter = axes[idx].scatter(x, y, c=classification, cmap='viridis', s=1, alpha=0.6)\n",
    "        axes[idx].set_title(parcel)\n",
    "        axes[idx].set_xlabel(\"x\")\n",
    "        axes[idx].set_ylabel(\"y\")\n",
    "        axes[idx].set_aspect(\"equal\")\n",
    "\n",
    "# Adjust layout and show the plot\n",
    "export_path = base_export_path + experiment + \".png\"\n",
    "fig.suptitle(experiment)\n",
    "plt.savefig(export_path, dpi=200)\n",
    "plt.close()"
   ]
  }
 ],
 "metadata": {
  "kernelspec": {
   "display_name": "qgis_stable",
   "language": "python",
   "name": "python3"
  },
  "language_info": {
   "codemirror_mode": {
    "name": "ipython",
    "version": 3
   },
   "file_extension": ".py",
   "mimetype": "text/x-python",
   "name": "python",
   "nbconvert_exporter": "python",
   "pygments_lexer": "ipython3",
   "version": "3.12.6"
  }
 },
 "nbformat": 4,
 "nbformat_minor": 2
}
