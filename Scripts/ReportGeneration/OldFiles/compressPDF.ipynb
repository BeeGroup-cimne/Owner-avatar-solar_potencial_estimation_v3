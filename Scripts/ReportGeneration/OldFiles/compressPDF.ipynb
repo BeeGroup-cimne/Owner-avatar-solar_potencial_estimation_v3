{
 "cells": [
  {
   "cell_type": "code",
   "execution_count": 7,
   "metadata": {},
   "outputs": [],
   "source": [
    "\"\"\"\n",
    "Simple python wrapper script to use ghoscript function to compress PDF files.\n",
    "\n",
    "Compression levels:\n",
    "    0: default - almost identical to /screen, 72 dpi images\n",
    "    1: prepress - high quality, color preserving, 300 dpi imgs\n",
    "    2: printer - high quality, 300 dpi images\n",
    "    3: ebook - low quality, 150 dpi images\n",
    "    4: screen - screen-view-only quality, 72 dpi images\n",
    "\n",
    "Dependency: Ghostscript.\n",
    "On MacOSX install via command line `brew install ghostscript`.\n",
    "\"\"\"\n",
    "\n",
    "import argparse\n",
    "import os.path\n",
    "import shutil\n",
    "import subprocess\n",
    "import sys\n",
    "\n",
    "\n",
    "def compress(input_file_path, output_file_path, power=0):\n",
    "    \"\"\"Function to compress PDF via Ghostscript command line interface\"\"\"\n",
    "    quality = {\n",
    "        0: \"/default\",\n",
    "        1: \"/prepress\",\n",
    "        2: \"/printer\",\n",
    "        3: \"/ebook\",\n",
    "        4: \"/screen\"\n",
    "    }\n",
    "\n",
    "    # Basic controls\n",
    "    # Check if valid path\n",
    "    if not os.path.isfile(input_file_path):\n",
    "        print(\"Error: invalid path for input PDF file.\", input_file_path)\n",
    "        sys.exit(1)\n",
    "\n",
    "    # Check compression level\n",
    "    if power < 0 or power > len(quality) - 1:\n",
    "        print(\"Error: invalid compression level, run pdfc -h for options.\", power)\n",
    "        sys.exit(1)\n",
    "\n",
    "    # Check if file is a PDF by extension\n",
    "    if input_file_path.split('.')[-1].lower() != 'pdf':\n",
    "        print(f\"Error: input file is not a PDF.\", input_file_path)\n",
    "        sys.exit(1)\n",
    "\n",
    "    gs = get_ghostscript_path()\n",
    "    # print(\"Compress PDF...\")\n",
    "    initial_size = os.path.getsize(input_file_path)\n",
    "    subprocess.call(\n",
    "        [\n",
    "            gs,\n",
    "            \"-sDEVICE=pdfwrite\",\n",
    "            \"-dCompatibilityLevel=1.4\",\n",
    "            \"-dPDFSETTINGS={}\".format(quality[power]),\n",
    "            \"-dNOPAUSE\",\n",
    "            \"-dQUIET\",\n",
    "            \"-dBATCH\",\n",
    "            \"-sOutputFile={}\".format(output_file_path),\n",
    "            input_file_path,\n",
    "        ]\n",
    "    )\n",
    "    final_size = os.path.getsize(output_file_path)\n",
    "    ratio = 1 - (final_size / initial_size)\n",
    "    # print(\"Compression by {0:.0%}.\".format(ratio))\n",
    "    # print(\"Final file size is {0:.5f}MB\".format(final_size / 1000000))\n",
    "    # print(\"Done.\")\n",
    "\n",
    "\n",
    "def get_ghostscript_path():\n",
    "    gs_names = [\"gs\", \"gswin32\", \"gswin64\"]\n",
    "    for name in gs_names:\n",
    "        if shutil.which(name):\n",
    "            return shutil.which(name)\n",
    "    raise FileNotFoundError(\n",
    "        f\"No GhostScript executable was found on path ({'/'.join(gs_names)})\"\n",
    "    )"
   ]
  },
  {
   "cell_type": "code",
   "execution_count": 9,
   "metadata": {},
   "outputs": [
    {
     "name": "stdout",
     "output_type": "stream",
     "text": [
      "eP-EAZK-376.pdf\n",
      "eP-EAZK-377.pdf\n"
     ]
    }
   ],
   "source": [
    "inputBasePath = r\"C:\\Users\\jaasb\\INVESTIGO\\BEE Group\\eplanet shared\\Programa Final\\Samples and Test\\Automated Report Test\\PDF docs\"\n",
    "outputBasePath = r\"C:\\Users\\jaasb\\INVESTIGO\\BEE Group\\eplanet shared\\Programa Final\\Samples and Test\\Automated Report Test\\PDF docs - Not Paged\"\n",
    "\n",
    "for input_file in os.listdir(inputBasePath):\n",
    "    if(os.path.isfile(inputBasePath + \"/\" + input_file)):\n",
    "        fileIn = inputBasePath + \"/\"  + input_file\n",
    "        fileOut = outputBasePath +\"/\" + input_file\n",
    "        compress(fileIn, fileOut, power=0)\n",
    "        print(input_file)"
   ]
  }
 ],
 "metadata": {
  "kernelspec": {
   "display_name": "geospatial",
   "language": "python",
   "name": "python3"
  },
  "language_info": {
   "codemirror_mode": {
    "name": "ipython",
    "version": 3
   },
   "file_extension": ".py",
   "mimetype": "text/x-python",
   "name": "python",
   "nbconvert_exporter": "python",
   "pygments_lexer": "ipython3",
   "version": "3.11.6"
  }
 },
 "nbformat": 4,
 "nbformat_minor": 2
}
